{
  "nbformat": 4,
  "nbformat_minor": 0,
  "metadata": {
    "colab": {
      "provenance": [],
      "mount_file_id": "1wXSifGEBGnlZoc4uO4-Lm_SPnLswNSX0",
      "authorship_tag": "ABX9TyN5xSuHbMMl+25aYEL5hbH9",
      "include_colab_link": true
    },
    "kernelspec": {
      "name": "python3",
      "display_name": "Python 3"
    },
    "language_info": {
      "name": "python"
    }
  },
  "cells": [
    {
      "cell_type": "markdown",
      "metadata": {
        "id": "view-in-github",
        "colab_type": "text"
      },
      "source": [
        "<a href=\"https://colab.research.google.com/github/iqraliaqat55/Control-flow-in-Python-ipynb/blob/main/Python_Exercise.ipynb\" target=\"_parent\"><img src=\"https://colab.research.google.com/assets/colab-badge.svg\" alt=\"Open In Colab\"/></a>"
      ]
    },
    {
      "cell_type": "markdown",
      "source": [
        "# ***python tutorial ***\n",
        "![python.jfif](data:image/jpeg;base64,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)\n",
        "\n",
        "\n"
      ],
      "metadata": {
        "id": "EtZ1fg9d2fLY"
      }
    },
    {
      "cell_type": "markdown",
      "source": [
        "# **Baby Names Python Exercise**"
      ],
      "metadata": {
        "id": "52OeBVSQ6rYw"
      }
    },
    {
      "cell_type": "markdown",
      "source": [
        "The Baby Names Python Exercise is a popular beginner-level exercise that helps you practice working with files, strings, and data processing in Python. The exercise typically involves reading data from a text file that contains popular baby names and their corresponding frequencies, and then performing various operations on this data."
      ],
      "metadata": {
        "id": "eskwO2WF637v"
      }
    },
    {
      "cell_type": "markdown",
      "source": [
        "**Here’s a step-by-step guide to solving a typical Baby Names Python Exercise:**"
      ],
      "metadata": {
        "id": "WXNhfI547IrV"
      }
    },
    {
      "cell_type": "markdown",
      "source": [
        "### step.1: Read file"
      ],
      "metadata": {
        "id": "lAXT2aNr7jxM"
      }
    },
    {
      "cell_type": "code",
      "source": [
        "# Function to read baby names from the file\n",
        "def read_baby_names(filename):\n",
        "    with open(filename, 'r') as file:\n",
        "        lines = file.readlines()\n",
        "\n",
        "    baby_names = {}\n",
        "    for line in lines:\n",
        "        name, count = line.strip().split(',')\n",
        "        baby_names[name] = int(count)\n",
        "\n",
        "    return baby_names\n",
        "\n"
      ],
      "metadata": {
        "id": "RDPxkz6u0q6v"
      },
      "execution_count": 7,
      "outputs": []
    },
    {
      "cell_type": "code",
      "source": [
        "# Example usage\n",
        "filename = 'baby_names.txt'\n",
        "baby_names = read_baby_names(filename)\n",
        "print(baby_names)"
      ],
      "metadata": {
        "colab": {
          "base_uri": "https://localhost:8080/"
        },
        "id": "khP6qvqD048Y",
        "outputId": "520ca37b-5455-4441-e862-f68d71f3906d"
      },
      "execution_count": 8,
      "outputs": [
        {
          "output_type": "stream",
          "name": "stdout",
          "text": [
            "{'Emma': 20799, 'Aliha': 19674, 'Iqra': 18413, 'Isabella': 16976, 'Irha': 16366}\n"
          ]
        }
      ]
    },
    {
      "cell_type": "markdown",
      "source": [
        " **Set Up the Data**"
      ],
      "metadata": {
        "id": "Cn4HHUgzAeex"
      }
    },
    {
      "cell_type": "code",
      "source": [
        "baby_names = {\n",
        "    \"Emma\": 20799,\n",
        "    \"Aliha\": 19674,\n",
        "    \"Iqra\": 18413,\n",
        "    \"Isabella\": 16976,\n",
        "    \"Irha\": 16366\n",
        "}"
      ],
      "metadata": {
        "id": "AlDunEjT_gs2"
      },
      "execution_count": 9,
      "outputs": []
    },
    {
      "cell_type": "markdown",
      "source": [
        "**Accessing Data in the Dictionary**"
      ],
      "metadata": {
        "id": "PbmFvwe5EzzX"
      }
    },
    {
      "cell_type": "code",
      "source": [
        "# Accessing a specific name's count\n",
        "emma_count = baby_names[\"Emma\"]\n",
        "print(f\"Number of babies named Emma: {emma_count}\")\n"
      ],
      "metadata": {
        "colab": {
          "base_uri": "https://localhost:8080/"
        },
        "id": "cfHrN7LIB86V",
        "outputId": "8985d2b5-460d-43fc-f67f-aeafefc6d52c"
      },
      "execution_count": 10,
      "outputs": [
        {
          "output_type": "stream",
          "name": "stdout",
          "text": [
            "Number of babies named Emma: 20799\n"
          ]
        }
      ]
    },
    {
      "cell_type": "markdown",
      "source": [
        "**Find the Most Popular Name**"
      ],
      "metadata": {
        "id": "jWrnaL5zE2zY"
      }
    },
    {
      "cell_type": "code",
      "source": [
        "def most_popular_name(baby_names):\n",
        "    return max(baby_names, key=baby_names.get)\n",
        "\n",
        "# Example usage\n",
        "most_popular = most_popular_name(baby_names)\n",
        "print(f\"The most popular name is: {most_popular}\")\n"
      ],
      "metadata": {
        "colab": {
          "base_uri": "https://localhost:8080/"
        },
        "id": "nM67gzq1Fquc",
        "outputId": "247f5175-737d-44a9-fb98-068e38a0486b"
      },
      "execution_count": 11,
      "outputs": [
        {
          "output_type": "stream",
          "name": "stdout",
          "text": [
            "The most popular name is: Emma\n"
          ]
        }
      ]
    },
    {
      "cell_type": "markdown",
      "source": [
        "**Total Number of Babies**"
      ],
      "metadata": {
        "id": "X2o5uwQqGLSo"
      }
    },
    {
      "cell_type": "code",
      "source": [
        "# Calculate the total number of babies\n",
        "def total_babies(baby_names):\n",
        "    return sum(baby_names.values())\n",
        "\n",
        "# Example usage\n",
        "total = total_babies(baby_names)\n",
        "print(f\"Total number of babies: {total}\")\n"
      ],
      "metadata": {
        "colab": {
          "base_uri": "https://localhost:8080/"
        },
        "id": "s_Meu2h5GRvc",
        "outputId": "ffdd1fd0-17ee-4f95-8eda-fa3267f48e68"
      },
      "execution_count": 12,
      "outputs": [
        {
          "output_type": "stream",
          "name": "stdout",
          "text": [
            "Total number of babies: 92228\n"
          ]
        }
      ]
    },
    {
      "cell_type": "markdown",
      "source": [
        "**Explanation:**\n",
        "\n",
        "sum() adds up all the frequencies (values in the dictionary).\n"
      ],
      "metadata": {
        "id": "N7jq9gCPGhro"
      }
    },
    {
      "cell_type": "markdown",
      "source": [
        "Find All Names with a Specific Letter"
      ],
      "metadata": {
        "id": "-Sx3qwCNGlRq"
      }
    },
    {
      "cell_type": "code",
      "source": [
        "# Find names containing a specific letter\n",
        "def names_with_letter(baby_names, letter):\n",
        "    return [name for name in baby_names if letter.lower() in name.lower()]\n",
        "\n",
        "# Example usage\n",
        "letter = 'a'\n",
        "names_with_a = names_with_letter(baby_names, letter)\n",
        "print(f\"Names containing the letter '{letter}': {names_with_a}\")\n"
      ],
      "metadata": {
        "colab": {
          "base_uri": "https://localhost:8080/"
        },
        "id": "-HEb2yYGGql4",
        "outputId": "4a0acd8d-0dce-4209-c91f-4483d9af0404"
      },
      "execution_count": 13,
      "outputs": [
        {
          "output_type": "stream",
          "name": "stdout",
          "text": [
            "Names containing the letter 'a': ['Emma', 'Aliha', 'Iqra', 'Isabella', 'Irha']\n"
          ]
        }
      ]
    },
    {
      "cell_type": "markdown",
      "source": [
        "**Rank of a Specific Name**"
      ],
      "metadata": {
        "id": "vMMXvaN71OIb"
      }
    },
    {
      "cell_type": "code",
      "source": [
        "def rank_of_name(baby_names, name):\n",
        "    sorted_names = sorted(baby_names.items(), key=lambda x: x[1], reverse=True)\n",
        "    for rank, (n, count) in enumerate(sorted_names, start=1):\n",
        "        if n == name:\n",
        "            return rank\n",
        "    return None  # If name not found\n"
      ],
      "metadata": {
        "id": "GpG-YVl51MZ6"
      },
      "execution_count": 15,
      "outputs": []
    },
    {
      "cell_type": "code",
      "source": [
        "# Example usage\n",
        "name_to_rank = \"Emma\"\n",
        "rank = rank_of_name(baby_names, name_to_rank)\n",
        "print(f\"The rank of the name '{name_to_rank}' is: {rank}\")\n"
      ],
      "metadata": {
        "colab": {
          "base_uri": "https://localhost:8080/"
        },
        "id": "7gXJTGBY1a6r",
        "outputId": "1dc6e688-e2f2-4084-e65f-64d5cca9cdb0"
      },
      "execution_count": 16,
      "outputs": [
        {
          "output_type": "stream",
          "name": "stdout",
          "text": [
            "The rank of the name 'Emma' is: 1\n"
          ]
        }
      ]
    },
    {
      "cell_type": "markdown",
      "source": [
        "**Explanation:**\n",
        "\n",
        "The function sorts the names by frequency in descending order and returns the rank of the specified name."
      ],
      "metadata": {
        "id": "VpMEdsyj1gah"
      }
    },
    {
      "cell_type": "markdown",
      "source": [
        " **Save Processed Data to a New File**"
      ],
      "metadata": {
        "id": "hUZcJtSy1iD0"
      }
    },
    {
      "cell_type": "code",
      "source": [
        "def save_processed_data(baby_names, filename):\n",
        "    with open(filename, 'w') as file:\n",
        "        for name, count in sorted(baby_names.items(), key=lambda x: x[1], reverse=True):\n",
        "            file.write(f\"{name}: {count}\\n\")\n",
        "\n",
        "# Example usage\n",
        "output_filename = 'processed_baby_names.txt'\n",
        "save_processed_data(baby_names, output_filename)\n",
        "print(f\"Processed data saved to {output_filename}\")\n"
      ],
      "metadata": {
        "colab": {
          "base_uri": "https://localhost:8080/"
        },
        "id": "F46hSzrq1mWJ",
        "outputId": "d4f9a80f-6cbe-40ae-ffb2-20aacfd18846"
      },
      "execution_count": 17,
      "outputs": [
        {
          "output_type": "stream",
          "name": "stdout",
          "text": [
            "Processed data saved to processed_baby_names.txt\n"
          ]
        }
      ]
    },
    {
      "cell_type": "markdown",
      "source": [
        "**Explanation:**\n",
        "\n",
        "This function writes the sorted names and their counts to a new file."
      ],
      "metadata": {
        "id": "vRYWh13U1uJg"
      }
    },
    {
      "cell_type": "markdown",
      "source": [
        "**Putting It All Together**"
      ],
      "metadata": {
        "id": "8GbxvRk-1yV5"
      }
    },
    {
      "cell_type": "code",
      "source": [
        "def read_baby_names(filename):\n",
        "    with open(filename, 'r') as file:\n",
        "        lines = file.readlines()\n",
        "\n",
        "    baby_names = {}\n",
        "    for line in lines:\n",
        "        name, count = line.strip().split(',')\n",
        "        baby_names[name] = int(count)\n",
        "\n",
        "    return baby_names\n",
        "\n",
        "def most_popular_name(baby_names):\n",
        "    return max(baby_names, key=baby_names.get)\n",
        "\n",
        "def total_babies(baby_names):\n",
        "    return sum(baby_names.values())\n",
        "\n",
        "def names_with_letter(baby_names, letter):\n",
        "    return [name for name in baby_names if letter.lower() in name.lower()]\n",
        "\n",
        "def rank_of_name(baby_names, name):\n",
        "    sorted_names = sorted(baby_names.items(), key=lambda x: x[1], reverse=True)\n",
        "    for rank, (n, count) in enumerate(sorted_names, start=1):\n",
        "        if n == name:\n",
        "            return rank\n",
        "    return None\n",
        "\n",
        "def save_processed_data(baby_names, filename):\n",
        "    with open(filename, 'w') as file:\n",
        "        for name, count in sorted(baby_names.items(), key=lambda x: x[1], reverse=True):\n",
        "            file.write(f\"{name}: {count}\\n\")\n",
        "\n",
        "# Example usage\n",
        "filename = 'baby_names.txt'\n",
        "baby_names = read_baby_names(filename)\n",
        "\n",
        "print(f\"Most popular name: {most_popular_name(baby_names)}\")\n",
        "print(f\"Total number of babies: {total_babies(baby_names)}\")\n",
        "print(f\"Names with the letter 'a': {names_with_letter(baby_names, 'a')}\")\n",
        "print(f\"Rank of 'Emma': {rank_of_name(baby_names, 'Emma')}\")\n",
        "\n",
        "output_filename = 'processed_baby_names.txt'\n",
        "save_processed_data(baby_names, output_filename)\n"
      ],
      "metadata": {
        "colab": {
          "base_uri": "https://localhost:8080/"
        },
        "id": "mT66Lyt412wL",
        "outputId": "75644de8-27e1-4ce3-daa2-b9084d4abc8b"
      },
      "execution_count": 18,
      "outputs": [
        {
          "output_type": "stream",
          "name": "stdout",
          "text": [
            "Most popular name: Emma\n",
            "Total number of babies: 92228\n",
            "Names with the letter 'a': ['Emma', 'Aliha', 'Iqra', 'Isabella', 'Irha']\n",
            "Rank of 'Emma': 1\n"
          ]
        }
      ]
    },
    {
      "cell_type": "markdown",
      "source": [
        "This exercise teaches you how to:\n",
        "\n",
        "Read and process data from a file.\n",
        "Perform basic data analysis like finding the most popular name, total count, and ranking.\n",
        "Work with dictionaries and loops.\n",
        "Save processed data to a file.\n",
        "This Baby Names exercise is an excellent way to practice file handling, string manipulation, and working with data structures in Python!"
      ],
      "metadata": {
        "id": "YD1G0h_P2Bqq"
      }
    }
  ]
}